{
 "cells": [
  {
   "cell_type": "code",
   "execution_count": 116,
   "metadata": {},
   "outputs": [],
   "source": [
    "import numpy as np\n",
    "import matplotlib.pyplot as plt\n",
    "\n",
    "\n",
    "# We play this game of tossing until a tail appears\n",
    "# Lets say Head (1) and tail (0)\n",
    "# num: number of simulations to perform\n",
    "def Game(num):\n",
    "  win = 0\n",
    "  win_list = []\n",
    "\n",
    "  # For num number of simulations to be performed\n",
    "  for i in range(num):\n",
    "      coin = 1\n",
    "      n_consecutive_heads = 0\n",
    "\n",
    "      while coin == 1:\n",
    "          coin = np.random.binomial(1, 0.5)\n",
    "          # Counting the number of consecutive heads\n",
    "          if coin == 1:\n",
    "              n_consecutive_heads += 1\n",
    "\n",
    "      #If we get a tail\n",
    "      if n_consecutive_heads != 0:\n",
    "          # Calculating the winnings\n",
    "          new_win = 2 ** n_consecutive_heads\n",
    "          win += new_win\n",
    "          #and append the instance to a list\n",
    "          win_list.append(new_win)\n",
    "      else:\n",
    "          #if we lose\n",
    "          win_list.append(0)\n",
    "\n",
    "  win_list = np.array(win_list, dtype=np.int16)\n",
    "  print(\"Expected Winnings is \", win / num)\n",
    "  return win_list"
   ]
  },
  {
   "cell_type": "code",
   "execution_count": 122,
   "metadata": {},
   "outputs": [],
   "source": [
    "def main():\n",
    "    num = 100000\n",
    "    win_list = Game(num)\n",
    "\n",
    "    xData = list(range(1, num + 1))\n",
    "    plt.bar(xData, win_list, align='center', alpha=0.7)\n",
    "    \n",
    "    plt.yscale('log')\n",
    "    plt.xlabel(\"Number of Simulations\")\n",
    "    plt.ylabel(\"Rewards in log scale, $\")\n",
    "    #   \n",
    "    plt.show()"
   ]
  },
  {
   "cell_type": "code",
   "execution_count": 123,
   "metadata": {},
   "outputs": [
    {
     "name": "stderr",
     "output_type": "stream",
     "text": [
      "/tmp/ipykernel_8715/2626061037.py:34: DeprecationWarning: NumPy will stop allowing conversion of out-of-bound Python integers to integer arrays.  The conversion of 131072 to int16 will fail in the future.\n",
      "For the old behavior, usually:\n",
      "    np.array(value).astype(dtype)`\n",
      "will give the desired result (the cast overflows).\n",
      "  win_list = np.array(win_list, dtype=np.int16)\n",
      "/tmp/ipykernel_8715/2626061037.py:34: DeprecationWarning: NumPy will stop allowing conversion of out-of-bound Python integers to integer arrays.  The conversion of 32768 to int16 will fail in the future.\n",
      "For the old behavior, usually:\n",
      "    np.array(value).astype(dtype)`\n",
      "will give the desired result (the cast overflows).\n",
      "  win_list = np.array(win_list, dtype=np.int16)\n"
     ]
    },
    {
     "name": "stdout",
     "output_type": "stream",
     "text": [
      "Expected Winnings is  10.9149\n"
     ]
    },
    {
     "data": {
      "image/png": "[encoded data removed]",
      "text/plain": [
       "<Figure size 640x480 with 1 Axes>"
      ]
     },
     "metadata": {},
     "output_type": "display_data"
    }
   ],
   "source": [
    "main()"
   ]
  }
 ],
 "metadata": {
  "kernelspec": {
   "display_name": "Python 3",
   "language": "python",
   "name": "python3"
  },
  "language_info": {
   "codemirror_mode": {
    "name": "ipython",
    "version": 3
   },
   "file_extension": ".py",
   "mimetype": "text/x-python",
   "name": "python",
   "nbconvert_exporter": "python",
   "pygments_lexer": "ipython3",
   "version": "3.11.3"
  },
  "orig_nbformat": 4
 },
 "nbformat": 4,
 "nbformat_minor": 2
}
